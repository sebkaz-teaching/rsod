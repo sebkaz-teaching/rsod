{
 "cells": [
  {
   "cell_type": "markdown",
   "id": "1a3b652e",
   "metadata": {},
   "source": [
    "# Modele uczenia maszynowego\n",
    "\n",
    "Rozwój technologii i powszechna cyfryzacja przyczyniły się do powstania nowego zasobu, jakim są dane.\n",
    "Dane te są generowane i przetwarzane zarówno w sposób ustrukturyzowany, jak i nieustrukturyzowany. \n",
    "Strukturyzacja danych doprowadziła do rozwoju wielu modeli, które dziś ogólnie określamy jako modele uczenia maszynowego (ang. _machine learning_, ML). \n",
    "Natomiast przetwarzanie danych nieustrukturyzowanych takich jak tekst, obrazy czy wideo, przyczyniło się do rozwoju uczenia głębokiego (ang. _deep learning_, DL). \n",
    "Oba te podejścia często określane zbiorczo jako sztuczna inteligencja (ang. _artificial inteligence_, AI), zostały stworzone głównie do rozpoznawania wzorców. \n",
    "Jednak coraz częściej wykorzystywane są również do modelowania i generowania nowych danych. \n",
    "Klasyczny model sztucznej inteligencji możemy wyrazić jako funkcję $f(X,\\theta)$, która zależy zarówno od danych reprezentowanych przez ustrukturyzowaną macierz $X$, jak i od parametrów  $\\theta$, których wartości zostają ustalone w procesie uczenia.\n",
    "\n",
    "W uczeniu nadzorowanym posiadamy wartości zmiennej celu dla wygenerowanych danych treningowych. Dwa podstawowe modele nadzorowanego uczenia maszynowego możemy zrealizować jako proste sieci neuronowe.\n",
    "\n",
    "Do wygenerowania kodów użyjemy biblioteki PyTorch\n",
    "\n",
    "## Regresja liniowa\n",
    "\n",
    "Wygenerujemy niezaszumione dane na podstawie wzoru $y = 2 x - 1$. \n",
    "Na podstawie zbioru danych postaramy się oszacować nieznane parametry czyli wyraz przy $x$ ($\\alpha_1 = 2$) i wyraz wolny ($\\alpha_0 = -1$)."
   ]
  },
  {
   "cell_type": "code",
   "execution_count": 1,
   "id": "f7ff83e4",
   "metadata": {},
   "outputs": [
    {
     "data": {
      "text/plain": [
       "[<matplotlib.lines.Line2D at 0x106648ad0>]"
      ]
     },
     "execution_count": 1,
     "metadata": {},
     "output_type": "execute_result"
    },
    {
     "data": {
      "image/png": "[encoded data removed]",
      "text/plain": [
       "<Figure size 640x480 with 1 Axes>"
      ]
     },
     "metadata": {},
     "output_type": "display_data"
    }
   ],
   "source": [
    "import numpy as np\n",
    "import matplotlib.pyplot as plt\n",
    "\n",
    "# zbior danych\n",
    "x = range(11)\n",
    "y = [2*xi - 1 for xi in x]\n",
    "plt.plot(x, y, 'go', label='True data', alpha=0.5)"
   ]
  },
  {
   "cell_type": "markdown",
   "id": "b74f4e4d",
   "metadata": {},
   "source": [
    "Model regresji liniowej dla jednej zmiennej można zrealizować jako prostą jednowarstwową sieć neuronową. \n",
    "Cały proces można zrealizować za pomocą obiektu `torch.nn.Linear`"
   ]
  },
  {
   "cell_type": "code",
   "execution_count": 2,
   "id": "009b850a",
   "metadata": {},
   "outputs": [],
   "source": [
    "import torch\n",
    "\n",
    "class LinearRegression(torch.nn.Module):\n",
    "\n",
    "    def __init__(self, inputSize, outputSize):\n",
    "        super(LinearRegression, self).__init__()\n",
    "        self.layers = torch.nn.Sequential(\n",
    "            torch.nn.Linear(inputSize, outputSize)\n",
    "        ) \n",
    "        \n",
    "    def forward(self, x):\n",
    "        return self.layers(x)"
   ]
  },
  {
   "cell_type": "markdown",
   "id": "3ef74a90",
   "metadata": {},
   "source": [
    "Aby nasze dane mogłybyć przeliczane przez bibliotekę PyTorch musimy je przetworzyć na tensory - czyli obiekty z biblioteki PyTorch."
   ]
  },
  {
   "cell_type": "code",
   "execution_count": 3,
   "id": "c9b020dd",
   "metadata": {},
   "outputs": [],
   "source": [
    "# dostosowanie do pytorch\n",
    "x = np.array(x, dtype=np.float32)\n",
    "y = np.array(y, dtype=np.float32)\n",
    "\n",
    "X_train = torch.from_numpy(x).view(-1,1)\n",
    "y_train = torch.from_numpy(y).view(-1,1)"
   ]
  },
  {
   "cell_type": "markdown",
   "id": "0dd9a6bc",
   "metadata": {},
   "source": [
    "Uwaga - ponieważ mamy jedną zmienną zawierającą 10 przypadków - potrzebujemy listy składającej się z 10 list jednoelementowych.\n",
    "\n",
    "Mozna tez wykorzystac obiektowe programowanie. "
   ]
  },
  {
   "cell_type": "code",
   "execution_count": 4,
   "id": "5f962c47",
   "metadata": {},
   "outputs": [],
   "source": [
    "from torch.utils.data import Dataset, DataLoader\n",
    "\n",
    "class LinearDataset(Dataset):\n",
    "    def __init__(self, X_train, y_train):\n",
    "        self.X_train = X_train # tensor typu torch\n",
    "        self.y_train = y_train\n",
    "\n",
    "    def __len__(self):\n",
    "        return len(self.y_train)\n",
    "\n",
    "    def __getitem__(self, idx):\n",
    "        return self.X_train[idx], self.y_train[idx]"
   ]
  },
  {
   "cell_type": "code",
   "execution_count": 5,
   "id": "7d9554c1",
   "metadata": {},
   "outputs": [],
   "source": [
    "dataset = LinearDataset(X_train=X_train, y_train=y_train)"
   ]
  },
  {
   "cell_type": "code",
   "execution_count": 6,
   "id": "c83231bc",
   "metadata": {},
   "outputs": [],
   "source": [
    "dataloader = DataLoader(dataset, shuffle=True, batch_size=2)"
   ]
  },
  {
   "cell_type": "markdown",
   "id": "bc8256f0",
   "metadata": {},
   "source": [
    "Możemy utworzyć model i wybrać optymalizator z funkcją kosztu. "
   ]
  },
  {
   "cell_type": "code",
   "execution_count": 7,
   "id": "cba83731",
   "metadata": {},
   "outputs": [],
   "source": [
    "# obiekt liniowej regresji w wersji sieci nn\n",
    "lr_model = LinearRegression(1,1)\n",
    "\n",
    "criterion = torch.nn.MSELoss()\n",
    "optimizer = torch.optim.SGD(lr_model.parameters(), lr=0.01)"
   ]
  },
  {
   "cell_type": "markdown",
   "id": "08dea521",
   "metadata": {},
   "source": [
    "Możemy sprawdzić, że nasz model będzie dostrajał 2 parametry."
   ]
  },
  {
   "cell_type": "code",
   "execution_count": 8,
   "id": "d18ea309",
   "metadata": {},
   "outputs": [
    {
     "name": "stdout",
     "output_type": "stream",
     "text": [
      "liczba trenowalnych parametrów: 2\n"
     ]
    }
   ],
   "source": [
    "num_params = sum(p.numel() for p in lr_model.parameters() if p.requires_grad)\n",
    "print(f\"liczba trenowalnych parametrów: {num_params}\")"
   ]
  },
  {
   "cell_type": "markdown",
   "id": "61821065",
   "metadata": {},
   "source": [
    "Parametry te w początkowej inicjalizacji mają następujące wartości:"
   ]
  },
  {
   "cell_type": "code",
   "execution_count": 9,
   "id": "58616fd4",
   "metadata": {},
   "outputs": [
    {
     "name": "stdout",
     "output_type": "stream",
     "text": [
      "weight: tensor([[-0.5483]])\n",
      "bias: tensor([0.1822])\n"
     ]
    }
   ],
   "source": [
    "for layer in lr_model.layers:\n",
    "    if isinstance(layer, torch.nn.Linear):\n",
    "        print(f\"weight: {layer.state_dict()['weight']}\")\n",
    "        print(f\"bias: {layer.state_dict()['bias']}\")"
   ]
  },
  {
   "cell_type": "code",
   "execution_count": 10,
   "id": "62396895",
   "metadata": {},
   "outputs": [
    {
     "name": "stdout",
     "output_type": "stream",
     "text": [
      "epoch: 050, loss = 0.38\n",
      "epoch: 100, loss = 0.22\n"
     ]
    }
   ],
   "source": [
    "epochs = 100\n",
    "# petla uczaca \n",
    "for epoch in range(epochs):\n",
    "    lr_model.train() # etap trenowania \n",
    "\n",
    "    y_pred = lr_model(X_train)\n",
    "    loss = criterion(y_pred, y_train)\n",
    "\n",
    "    optimizer.zero_grad()\n",
    "    loss.backward()\n",
    "    optimizer.step()\n",
    "    \n",
    "    if (epoch+1) % 50 == 0:\n",
    "        print(f'epoch: {epoch+1:03d}, loss = {loss.item():.2f}')\n",
    " \n",
    "    lr_model.eval() # etap ewaluacji modelu\n",
    "\n",
    "# po treningu jeszcze raz generujemy predykcje\n",
    "lr_model.eval()\n",
    "with torch.no_grad():\n",
    "    predicted = lr_model(X_train)"
   ]
  },
  {
   "cell_type": "markdown",
   "id": "01fdcb12",
   "metadata": {},
   "source": [
    "Mozna tez wykorzystac obiekt `dataloader`"
   ]
  },
  {
   "cell_type": "code",
   "execution_count": 11,
   "id": "f089de8e",
   "metadata": {},
   "outputs": [
    {
     "name": "stdout",
     "output_type": "stream",
     "text": [
      "Epoch 0, loss = 0.1676\n",
      "Epoch 10, loss = 0.0017\n",
      "Epoch 20, loss = 0.0771\n",
      "Epoch 30, loss = 0.0643\n",
      "Epoch 40, loss = 0.0054\n"
     ]
    }
   ],
   "source": [
    "for epoch in range(50):\n",
    "    for X_batch, y_batch in dataloader:\n",
    "        preds = lr_model(X_batch)\n",
    "        loss = criterion(preds, y_batch)\n",
    "\n",
    "        optimizer.zero_grad()\n",
    "        loss.backward()\n",
    "        optimizer.step()\n",
    "\n",
    "    if epoch % 10 == 0:\n",
    "        print(f\"Epoch {epoch}, loss = {loss.item():.4f}\")"
   ]
  },
  {
   "cell_type": "markdown",
   "id": "3b769737",
   "metadata": {},
   "source": [
    "Otrzymane parametry po uczeniu "
   ]
  },
  {
   "cell_type": "code",
   "execution_count": 12,
   "id": "c83c4552",
   "metadata": {},
   "outputs": [
    {
     "name": "stdout",
     "output_type": "stream",
     "text": [
      "po procesie uczenia waga: Parameter containing:\n",
      "tensor([[1.9822]], requires_grad=True) oraz bias Parameter containing:\n",
      "tensor([-0.8443], requires_grad=True)\n"
     ]
    }
   ],
   "source": [
    "print(f\"po procesie uczenia waga: {lr_model.layers[0].weight} oraz bias {lr_model.layers[0].bias}\")"
   ]
  },
  {
   "cell_type": "markdown",
   "id": "fe27c27e",
   "metadata": {},
   "source": [
    "Dopasowanie modelu do danych można przedstawić na wykresie"
   ]
  },
  {
   "cell_type": "code",
   "execution_count": 13,
   "id": "068cc069",
   "metadata": {},
   "outputs": [
    {
     "data": {
      "image/png": "[encoded data removed]",
      "text/plain": [
       "<Figure size 640x480 with 1 Axes>"
      ]
     },
     "metadata": {},
     "output_type": "display_data"
    }
   ],
   "source": [
    "plt.clf()\n",
    "plt.plot(X_train, y_train, 'go', label='True data', alpha=0.5)\n",
    "plt.plot(X_train, predicted, '--', label='Predictions', alpha=0.5)\n",
    "plt.legend(loc='best')\n",
    "plt.show()"
   ]
  }
 ],
 "metadata": {
  "kernelspec": {
   "display_name": ".venv",
   "language": "python",
   "name": "python3"
  },
  "language_info": {
   "codemirror_mode": {
    "name": "ipython",
    "version": 3
   },
   "file_extension": ".py",
   "mimetype": "text/x-python",
   "name": "python",
   "nbconvert_exporter": "python",
   "pygments_lexer": "ipython3",
   "version": "3.11.13"
  }
 },
 "nbformat": 4,
 "nbformat_minor": 5
}
